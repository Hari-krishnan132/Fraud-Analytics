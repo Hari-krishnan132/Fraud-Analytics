{
 "cells": [
  {
   "cell_type": "markdown",
   "metadata": {
    "id": "78EA72W59BPV"
   },
   "source": [
    "#Team Details :\n",
    "## CS23MTECH11020 - Suryansh Gautam\n",
    "## CS23MTECH11008 - V Harikrishnan\n",
    "## CS23MTECH11029 - Patel Heetkumar D.\n",
    "## CS23MTECH13001 - Anil kumar Sharma\n",
    "## CS23MTECH13002 - KR Anuraj\n"
   ]
  },
  {
   "cell_type": "markdown",
   "metadata": {
    "id": "4Eb9hBZLJJ2Y"
   },
   "source": [
    "Mounting google drive"
   ]
  },
  {
   "cell_type": "code",
   "execution_count": null,
   "metadata": {
    "colab": {
     "base_uri": "https://localhost:8080/"
    },
    "id": "IVaE1pAMIOSo",
    "outputId": "7634475d-2806-4dee-cbac-f94b68d95752"
   },
   "outputs": [
    {
     "name": "stdout",
     "output_type": "stream",
     "text": [
      "Mounted at /content/drive\n"
     ]
    }
   ],
   "source": [
    "from google.colab import drive\n",
    "drive.mount('/content/drive')"
   ]
  },
  {
   "cell_type": "markdown",
   "metadata": {
    "id": "717oZyUfJLO7"
   },
   "source": [
    "Importing necessary libraries"
   ]
  },
  {
   "cell_type": "code",
   "execution_count": null,
   "metadata": {
    "id": "JbrpKYP8wtVw"
   },
   "outputs": [],
   "source": [
    "import networkx as nx\n",
    "import random\n",
    "from sklearn.cluster import KMeans\n",
    "from sklearn.decomposition import PCA\n",
    "import numpy as np\n",
    "import matplotlib.pyplot as plt\n",
    "from typing import List\n",
    "from tqdm import tqdm\n",
    "from gensim.models.word2vec import Word2Vec\n",
    "import pandas as pd\n",
    "import matplotlib.pyplot as plt"
   ]
  },
  {
   "cell_type": "markdown",
   "metadata": {
    "id": "PobZ35FcJNks"
   },
   "source": [
    "Reading dataset"
   ]
  },
  {
   "cell_type": "code",
   "execution_count": null,
   "metadata": {
    "id": "zjEG7eXNIUtv"
   },
   "outputs": [],
   "source": [
    "df = pd.read_csv('/content/drive/MyDrive/Payments.csv')"
   ]
  },
  {
   "cell_type": "markdown",
   "metadata": {
    "id": "rVAkWG8NJTnq"
   },
   "source": [
    "Calculating probability for outgoing edge from each node."
   ]
  },
  {
   "cell_type": "code",
   "execution_count": null,
   "metadata": {
    "id": "FNTRw255BvB-"
   },
   "outputs": [],
   "source": [
    "def compute_probabilities(graph, probs, p, q):\n",
    "  G = graph\n",
    "  for source_node in G.nodes():\n",
    "    for current_node in G.neighbors(source_node):\n",
    "      prob_node = list()\n",
    "      for destination in G.neighbors(current_node):\n",
    "\n",
    "        if source_node == destination:\n",
    "          prob = G[current_node][destination].get('weight', 1) * (1/p)\n",
    "        elif destination in G.neighbors(source_node):\n",
    "          prob = G[current_node][destination].get('weight', 1)\n",
    "        else:\n",
    "          prob = G[current_node][destination].get('weight', 1) * (1/q)\n",
    "\n",
    "        prob_node.append(prob)\n",
    "\n",
    "      probs[source_node]['probabilities'][current_node] = prob_node/np.sum(prob_node)\n",
    "\n",
    "  return probs"
   ]
  },
  {
   "cell_type": "markdown",
   "metadata": {
    "id": "smZGPk2tJrCJ"
   },
   "source": [
    "Generating random walks"
   ]
  },
  {
   "cell_type": "code",
   "execution_count": null,
   "metadata": {
    "id": "cQrtBSxwH1pI"
   },
   "outputs": [],
   "source": [
    "\n",
    "def generate_random_walks(graph, probs, max_walks, walk_len):\n",
    "  G = graph\n",
    "  walks = list()\n",
    "  for start_node in G.nodes():\n",
    "    for i in range(max_walks):\n",
    "      walk = [start_node]\n",
    "\n",
    "      walk_options = list(G[start_node])\n",
    "      if len(walk_options) == 0:\n",
    "        break\n",
    "      first_step = np.random.choice(walk_options)\n",
    "      walk.append(first_step)\n",
    "\n",
    "      for k in range(walk_len - 2):\n",
    "        walk_options = list(G[walk[-1]])\n",
    "        if len(walk_options) == 0:\n",
    "          break\n",
    "\n",
    "        probabilities = probs[walk[-2]]['probabilities'][walk[-1]]\n",
    "        next_step = np.random.choice(walk_options, p=probabilities)\n",
    "        walk.append(next_step)\n",
    "      walks.append(walk)\n",
    "  np.random.shuffle(walks)\n",
    "  walks = [list(map(str, walk)) for walk in walks]\n",
    "\n",
    "  return walks"
   ]
  },
  {
   "cell_type": "markdown",
   "metadata": {
    "id": "imQV-nkxJweN"
   },
   "source": [
    "Obtain embeddings from Word2Vec by passing walks"
   ]
  },
  {
   "cell_type": "code",
   "execution_count": null,
   "metadata": {
    "id": "52U4fEb0Ij0L"
   },
   "outputs": [],
   "source": [
    "def Node2Vec(generated_walks, window_size, embedding_dim):\n",
    "  model = Word2Vec(sentences=generated_walks, window=window_size, vector_size=embedding_dim)\n",
    "  return model.wv"
   ]
  },
  {
   "cell_type": "markdown",
   "metadata": {
    "id": "H2ugQfv4J92Y"
   },
   "source": [
    "Creating multi edge directional graph"
   ]
  },
  {
   "cell_type": "code",
   "execution_count": null,
   "metadata": {
    "id": "WDSCEeXYKLOa"
   },
   "outputs": [],
   "source": [
    "G = nx.MultiDiGraph()\n",
    "\n",
    "for index, row in df.iterrows():\n",
    "    sender = row['Sender']\n",
    "    receiver = row['Receiver']\n",
    "    amount = row['Amount']\n",
    "    G.add_edge(sender, receiver, weight=np.log(amount))"
   ]
  },
  {
   "cell_type": "code",
   "execution_count": null,
   "metadata": {
    "colab": {
     "base_uri": "https://localhost:8080/"
    },
    "id": "Viqd7mzKRD9s",
    "outputId": "3d53c71d-ebcd-4e41-a59d-da75165cce00"
   },
   "outputs": [
    {
     "data": {
      "text/plain": [
       "130535"
      ]
     },
     "execution_count": 87,
     "metadata": {},
     "output_type": "execute_result"
    }
   ],
   "source": [
    "len(G.edges())"
   ]
  },
  {
   "cell_type": "code",
   "execution_count": null,
   "metadata": {
    "id": "MnoHlxTpKSA6"
   },
   "outputs": [],
   "source": [
    "from collections import defaultdict\n",
    "\n",
    "probs = defaultdict(dict)\n",
    "for node in G.nodes():\n",
    "  probs[node]['probabilities'] = dict()"
   ]
  },
  {
   "cell_type": "code",
   "execution_count": null,
   "metadata": {
    "id": "k6ncCcq64OES"
   },
   "outputs": [],
   "source": [
    "cp = compute_probabilities(G, probs, 2, 5)\n",
    "walks = generate_random_walks(G, cp, 10, 10)\n",
    "# walks"
   ]
  },
  {
   "cell_type": "code",
   "execution_count": null,
   "metadata": {
    "id": "f7LawuuY47vN"
   },
   "outputs": [],
   "source": [
    "n2v_emb = Node2Vec(walks, 5, 16)"
   ]
  },
  {
   "cell_type": "code",
   "execution_count": null,
   "metadata": {
    "id": "554jWEj_RSBO"
   },
   "outputs": [],
   "source": [
    "embeddings = n2v_emb.vectors"
   ]
  },
  {
   "cell_type": "markdown",
   "metadata": {
    "id": "Ckw8uiwMKJD-"
   },
   "source": [
    "Fitting k means on the generated embeddings"
   ]
  },
  {
   "cell_type": "code",
   "execution_count": null,
   "metadata": {
    "colab": {
     "base_uri": "https://localhost:8080/"
    },
    "id": "7E3lZnqyViyv",
    "outputId": "5ff77165-ddf2-4c58-b4eb-499057d53b7c"
   },
   "outputs": [
    {
     "name": "stderr",
     "output_type": "stream",
     "text": [
      "/usr/local/lib/python3.10/dist-packages/sklearn/cluster/_kmeans.py:870: FutureWarning: The default value of `n_init` will change from 10 to 'auto' in 1.4. Set the value of `n_init` explicitly to suppress the warning\n",
      "  warnings.warn(\n"
     ]
    }
   ],
   "source": [
    "num_clusters = 3\n",
    "kmeans = KMeans(n_clusters=num_clusters, random_state=50)\n",
    "kmeans.fit(embeddings)\n",
    "labels = kmeans.labels_"
   ]
  },
  {
   "cell_type": "markdown",
   "metadata": {
    "id": "j0jp3qs1KNyT"
   },
   "source": [
    "Fitting PCA on generated embeddings"
   ]
  },
  {
   "cell_type": "code",
   "execution_count": null,
   "metadata": {
    "id": "P9DnSdRDVJRm"
   },
   "outputs": [],
   "source": [
    "pca = PCA(n_components=2)\n",
    "\n",
    "dim_2 = pca.fit_transform(embeddings)"
   ]
  },
  {
   "cell_type": "markdown",
   "metadata": {
    "id": "G5-xZw0GKTDy"
   },
   "source": [
    "Plotting the clusters that are generated using Node2Vec method"
   ]
  },
  {
   "cell_type": "code",
   "execution_count": null,
   "metadata": {
    "colab": {
     "base_uri": "https://localhost:8080/"
    },
    "id": "-3fv3o6DVjsC",
    "outputId": "f3badbd8-9ef1-4993-99ad-8c246f24b231"
   },
   "outputs": [
    {
     "data": {
      "image/png": "[encoded data removed]",
      "text/plain": [
       "<Figure size 640x480 with 1 Axes>"
      ]
     },
     "metadata": {},
     "output_type": "display_data"
    }
   ],
   "source": [
    "plt.scatter(dim_2[:, 0], dim_2[:, 1], c=labels, cmap='viridis')\n",
    "plt.title('Clusters')\n",
    "plt.xlabel('Projection axes 1')\n",
    "plt.ylabel('Projection axes 2')\n",
    "plt.show()"
   ]
  }
 ],
 "metadata": {
  "colab": {
   "provenance": []
  },
  "kernelspec": {
   "display_name": "Python 3 (ipykernel)",
   "language": "python",
   "name": "python3"
  },
  "language_info": {
   "codemirror_mode": {
    "name": "ipython",
    "version": 3
   },
   "file_extension": ".py",
   "mimetype": "text/x-python",
   "name": "python",
   "nbconvert_exporter": "python",
   "pygments_lexer": "ipython3",
   "version": "3.10.13"
  }
 },
 "nbformat": 4,
 "nbformat_minor": 4
}
