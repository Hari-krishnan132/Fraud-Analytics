{
  "cells": [
    {
      "cell_type": "markdown",
      "source": [
        "#Team Details :\n",
        "## CS23MTECH11020 - Suryansh Gautam\n",
        "## CS23MTECH11008 - V Harikrishnan\n",
        "## CS23MTECH11029 - Patel Heetkumar D.\n",
        "## CS23MTECH13001 - Anil kumar Sharma\n",
        "## CS23MTECH13002 - KR Anuraj\n"
      ],
      "metadata": {
        "id": "Hwq8JaoB8-dj"
      },
      "id": "Hwq8JaoB8-dj"
    },
    {
      "cell_type": "markdown",
      "source": [
        "Mounting google drive"
      ],
      "metadata": {
        "id": "RBrAhHlaKXoe"
      },
      "id": "RBrAhHlaKXoe"
    },
    {
      "cell_type": "code",
      "execution_count": null,
      "id": "c1839a6b-9e9f-48d3-a96b-f097692a81b1",
      "metadata": {
        "colab": {
          "base_uri": "https://localhost:8080/"
        },
        "id": "c1839a6b-9e9f-48d3-a96b-f097692a81b1",
        "outputId": "42bff7e0-80a6-48dc-a4a0-93206112d592"
      },
      "outputs": [
        {
          "output_type": "stream",
          "name": "stdout",
          "text": [
            "Mounted at /content/drive\n"
          ]
        }
      ],
      "source": [
        "from google.colab import drive\n",
        "drive.mount('/content/drive')"
      ]
    },
    {
      "cell_type": "markdown",
      "source": [
        "Installing necessary library"
      ],
      "metadata": {
        "id": "LzxlliDcKZZ8"
      },
      "id": "LzxlliDcKZZ8"
    },
    {
      "cell_type": "code",
      "source": [
        "!pip install torch-geometric"
      ],
      "metadata": {
        "colab": {
          "base_uri": "https://localhost:8080/"
        },
        "id": "gPaLOcmc6Ne9",
        "outputId": "2e133aaa-17a1-4c7c-bf81-871c44af2592"
      },
      "id": "gPaLOcmc6Ne9",
      "execution_count": null,
      "outputs": [
        {
          "output_type": "stream",
          "name": "stdout",
          "text": [
            "Collecting torch-geometric\n",
            "  Downloading torch_geometric-2.5.3-py3-none-any.whl (1.1 MB)\n",
            "\u001b[?25l     \u001b[90m━━━━━━━━━━━━━━━━━━━━━━━━━━━━━━━━━━━━━━━━\u001b[0m \u001b[32m0.0/1.1 MB\u001b[0m \u001b[31m?\u001b[0m eta \u001b[36m-:--:--\u001b[0m\r\u001b[2K     \u001b[91m━━━━━━━\u001b[0m\u001b[90m╺\u001b[0m\u001b[90m━━━━━━━━━━━━━━━━━━━━━━━━━━━━━━━━\u001b[0m \u001b[32m0.2/1.1 MB\u001b[0m \u001b[31m5.6 MB/s\u001b[0m eta \u001b[36m0:00:01\u001b[0m\r\u001b[2K     \u001b[90m━━━━━━━━━━━━━━━━━━━━━━━━━━━━━━━━━━━━━━━━\u001b[0m \u001b[32m1.1/1.1 MB\u001b[0m \u001b[31m18.9 MB/s\u001b[0m eta \u001b[36m0:00:00\u001b[0m\n",
            "\u001b[?25hRequirement already satisfied: tqdm in /usr/local/lib/python3.10/dist-packages (from torch-geometric) (4.66.2)\n",
            "Requirement already satisfied: numpy in /usr/local/lib/python3.10/dist-packages (from torch-geometric) (1.25.2)\n",
            "Requirement already satisfied: scipy in /usr/local/lib/python3.10/dist-packages (from torch-geometric) (1.11.4)\n",
            "Requirement already satisfied: fsspec in /usr/local/lib/python3.10/dist-packages (from torch-geometric) (2023.6.0)\n",
            "Requirement already satisfied: jinja2 in /usr/local/lib/python3.10/dist-packages (from torch-geometric) (3.1.3)\n",
            "Requirement already satisfied: aiohttp in /usr/local/lib/python3.10/dist-packages (from torch-geometric) (3.9.5)\n",
            "Requirement already satisfied: requests in /usr/local/lib/python3.10/dist-packages (from torch-geometric) (2.31.0)\n",
            "Requirement already satisfied: pyparsing in /usr/local/lib/python3.10/dist-packages (from torch-geometric) (3.1.2)\n",
            "Requirement already satisfied: scikit-learn in /usr/local/lib/python3.10/dist-packages (from torch-geometric) (1.2.2)\n",
            "Requirement already satisfied: psutil>=5.8.0 in /usr/local/lib/python3.10/dist-packages (from torch-geometric) (5.9.5)\n",
            "Requirement already satisfied: aiosignal>=1.1.2 in /usr/local/lib/python3.10/dist-packages (from aiohttp->torch-geometric) (1.3.1)\n",
            "Requirement already satisfied: attrs>=17.3.0 in /usr/local/lib/python3.10/dist-packages (from aiohttp->torch-geometric) (23.2.0)\n",
            "Requirement already satisfied: frozenlist>=1.1.1 in /usr/local/lib/python3.10/dist-packages (from aiohttp->torch-geometric) (1.4.1)\n",
            "Requirement already satisfied: multidict<7.0,>=4.5 in /usr/local/lib/python3.10/dist-packages (from aiohttp->torch-geometric) (6.0.5)\n",
            "Requirement already satisfied: yarl<2.0,>=1.0 in /usr/local/lib/python3.10/dist-packages (from aiohttp->torch-geometric) (1.9.4)\n",
            "Requirement already satisfied: async-timeout<5.0,>=4.0 in /usr/local/lib/python3.10/dist-packages (from aiohttp->torch-geometric) (4.0.3)\n",
            "Requirement already satisfied: MarkupSafe>=2.0 in /usr/local/lib/python3.10/dist-packages (from jinja2->torch-geometric) (2.1.5)\n",
            "Requirement already satisfied: charset-normalizer<4,>=2 in /usr/local/lib/python3.10/dist-packages (from requests->torch-geometric) (3.3.2)\n",
            "Requirement already satisfied: idna<4,>=2.5 in /usr/local/lib/python3.10/dist-packages (from requests->torch-geometric) (3.7)\n",
            "Requirement already satisfied: urllib3<3,>=1.21.1 in /usr/local/lib/python3.10/dist-packages (from requests->torch-geometric) (2.0.7)\n",
            "Requirement already satisfied: certifi>=2017.4.17 in /usr/local/lib/python3.10/dist-packages (from requests->torch-geometric) (2024.2.2)\n",
            "Requirement already satisfied: joblib>=1.1.1 in /usr/local/lib/python3.10/dist-packages (from scikit-learn->torch-geometric) (1.4.0)\n",
            "Requirement already satisfied: threadpoolctl>=2.0.0 in /usr/local/lib/python3.10/dist-packages (from scikit-learn->torch-geometric) (3.4.0)\n",
            "Installing collected packages: torch-geometric\n",
            "Successfully installed torch-geometric-2.5.3\n"
          ]
        }
      ]
    },
    {
      "cell_type": "markdown",
      "source": [
        "Importing necessary libraries"
      ],
      "metadata": {
        "id": "3itISl3YKc9c"
      },
      "id": "3itISl3YKc9c"
    },
    {
      "cell_type": "code",
      "source": [
        "import networkx as nx\n",
        "import random\n",
        "import pandas as pd\n",
        "import numpy as np\n",
        "from tensorflow.keras import Model, optimizers, losses\n",
        "from sklearn import preprocessing, model_selection\n",
        "from sklearn.cluster import KMeans\n",
        "from sklearn.decomposition import PCA\n",
        "import matplotlib.pyplot as plt\n",
        "import torch\n",
        "from torch_geometric.nn import GCNConv\n",
        "import torch.nn.functional as F"
      ],
      "metadata": {
        "id": "FRU9X5VyOsBc"
      },
      "id": "FRU9X5VyOsBc",
      "execution_count": null,
      "outputs": []
    },
    {
      "cell_type": "markdown",
      "source": [
        "Reading dataset"
      ],
      "metadata": {
        "id": "I9P5NVRtKfTB"
      },
      "id": "I9P5NVRtKfTB"
    },
    {
      "cell_type": "code",
      "source": [
        "df = pd.read_csv('/content/drive/MyDrive/Payments.csv')"
      ],
      "metadata": {
        "id": "No6PyRDPsXP0"
      },
      "id": "No6PyRDPsXP0",
      "execution_count": null,
      "outputs": []
    },
    {
      "cell_type": "markdown",
      "source": [
        "Creating directional graph"
      ],
      "metadata": {
        "id": "uq7aqiaWKhHv"
      },
      "id": "uq7aqiaWKhHv"
    },
    {
      "cell_type": "code",
      "source": [
        "G = nx.DiGraph()\n",
        "\n",
        "for index, row in df.iterrows():\n",
        "    sender = row['Sender']\n",
        "    receiver = row['Receiver']\n",
        "    amount = row['Amount']\n",
        "    if G.has_edge(sender, receiver):\n",
        "        G[sender][receiver]['weight'] += np.log(amount)\n",
        "    else:\n",
        "        G.add_edge(sender, receiver, weight=np.log(amount))"
      ],
      "metadata": {
        "id": "py2DeHFNxGJ-"
      },
      "id": "py2DeHFNxGJ-",
      "execution_count": null,
      "outputs": []
    },
    {
      "cell_type": "code",
      "source": [
        "n = len(G.nodes())"
      ],
      "metadata": {
        "id": "CARmGASHxVMB"
      },
      "id": "CARmGASHxVMB",
      "execution_count": null,
      "outputs": []
    },
    {
      "cell_type": "markdown",
      "source": [
        "Generating edge list and corresponding weight list"
      ],
      "metadata": {
        "id": "ZUso9WcLKkWN"
      },
      "id": "ZUso9WcLKkWN"
    },
    {
      "cell_type": "code",
      "source": [
        "mapping = {node: i for i, node in enumerate(G.nodes)}\n",
        "G = nx.relabel_nodes(G, mapping)\n",
        "\n",
        "edge_index = torch.tensor(list(G.edges), dtype=torch.long).t().contiguous()\n",
        "edge_weight = torch.tensor([G[u][v]['weight'] for u, v in G.edges], dtype=torch.float)"
      ],
      "metadata": {
        "id": "rluiikrY4ejq"
      },
      "id": "rluiikrY4ejq",
      "execution_count": null,
      "outputs": []
    },
    {
      "cell_type": "code",
      "source": [
        "edge_weight.shape"
      ],
      "metadata": {
        "id": "Eee_lmya8gUY",
        "colab": {
          "base_uri": "https://localhost:8080/"
        },
        "outputId": "85c29227-7f1b-4498-f107-a4d22aa86618"
      },
      "id": "Eee_lmya8gUY",
      "execution_count": null,
      "outputs": [
        {
          "output_type": "execute_result",
          "data": {
            "text/plain": [
              "torch.Size([5358])"
            ]
          },
          "metadata": {},
          "execution_count": 15
        }
      ]
    },
    {
      "cell_type": "markdown",
      "source": [
        "Graph convolutional network model"
      ],
      "metadata": {
        "id": "JWOf1uJIKqe6"
      },
      "id": "JWOf1uJIKqe6"
    },
    {
      "cell_type": "code",
      "source": [
        "class GCN(torch.nn.Module):\n",
        "    def __init__(self, num_nodes, embed_dim):\n",
        "        super(GCN, self).__init__()\n",
        "        self.conv1 = GCNConv(num_nodes, 128)\n",
        "        self.conv2 = GCNConv(128, embed_dim)\n",
        "\n",
        "    def forward(self, x, edge_index, edge_weight):\n",
        "        x = self.conv1(x, edge_index, edge_weight)\n",
        "        x = F.relu(x)\n",
        "        x = F.dropout(x, training=self.training)\n",
        "        x = self.conv2(x, edge_index, edge_weight)\n",
        "        return x\n"
      ],
      "metadata": {
        "id": "PPBbLm9h3A16"
      },
      "id": "PPBbLm9h3A16",
      "execution_count": null,
      "outputs": []
    },
    {
      "cell_type": "markdown",
      "source": [
        "Calculating pairwise loss"
      ],
      "metadata": {
        "id": "SxgskdUZKyx_"
      },
      "id": "SxgskdUZKyx_"
    },
    {
      "cell_type": "code",
      "source": [
        "def distance_loss(embeddings):\n",
        "    dist_matrix = torch.cdist(embeddings, embeddings, p=2)\n",
        "    mean_dist = torch.mean(dist_matrix)\n",
        "    return mean_dist"
      ],
      "metadata": {
        "id": "_vZOfHU34P-s"
      },
      "id": "_vZOfHU34P-s",
      "execution_count": null,
      "outputs": []
    },
    {
      "cell_type": "markdown",
      "source": [
        "Training GCN model"
      ],
      "metadata": {
        "id": "lJvsygO6LCt4"
      },
      "id": "lJvsygO6LCt4"
    },
    {
      "cell_type": "code",
      "source": [
        "model = GCN(n, embed_dim=5)\n",
        "optimizer = torch.optim.Adam(model.parameters(), lr=0.001)\n",
        "features = torch.eye(n)\n",
        "x = torch.tensor(features, dtype=torch.float)\n",
        "\n",
        "model.train()\n",
        "for epoch in range(100):\n",
        "\n",
        "    out = model(x, edge_index, edge_weight)\n",
        "    loss = distance_loss(out)\n",
        "    optimizer.zero_grad()\n",
        "    loss.backward()\n",
        "    optimizer.step()"
      ],
      "metadata": {
        "colab": {
          "base_uri": "https://localhost:8080/"
        },
        "id": "ERGqoOOh5suT",
        "outputId": "850a8fd0-9619-4d42-d14a-2e12bb29ecc3"
      },
      "id": "ERGqoOOh5suT",
      "execution_count": null,
      "outputs": [
        {
          "output_type": "stream",
          "name": "stderr",
          "text": [
            "<ipython-input-70-d60d1d3c71d2>:5: UserWarning: To copy construct from a tensor, it is recommended to use sourceTensor.clone().detach() or sourceTensor.clone().detach().requires_grad_(True), rather than torch.tensor(sourceTensor).\n",
            "  x = torch.tensor(features, dtype=torch.float)\n"
          ]
        }
      ]
    },
    {
      "cell_type": "markdown",
      "source": [
        "Fetching embeddings from model"
      ],
      "metadata": {
        "id": "41ejiuLQLGQP"
      },
      "id": "41ejiuLQLGQP"
    },
    {
      "cell_type": "code",
      "source": [
        "with torch.no_grad():\n",
        "    model.eval()\n",
        "    embeddings = model(x, edge_index, edge_weight).detach().numpy()\n",
        "embeddings.shape"
      ],
      "metadata": {
        "colab": {
          "base_uri": "https://localhost:8080/"
        },
        "id": "kpHCmN1QVI06",
        "outputId": "179bbefb-0899-4050-ecfc-8844ad1bd2d6"
      },
      "id": "kpHCmN1QVI06",
      "execution_count": null,
      "outputs": [
        {
          "output_type": "execute_result",
          "data": {
            "text/plain": [
              "(799, 5)"
            ]
          },
          "metadata": {},
          "execution_count": 71
        }
      ]
    },
    {
      "cell_type": "markdown",
      "source": [
        "Training K means using generated embeddings"
      ],
      "metadata": {
        "id": "wt28CcJBLIkC"
      },
      "id": "wt28CcJBLIkC"
    },
    {
      "cell_type": "code",
      "source": [
        "num_clusters = 3\n",
        "kmeans = KMeans(n_clusters=num_clusters)\n",
        "kmeans.fit(embeddings)\n",
        "labels = kmeans.labels_"
      ],
      "metadata": {
        "colab": {
          "base_uri": "https://localhost:8080/"
        },
        "id": "CJBkYksBVXhs",
        "outputId": "81cea6ab-f04a-440a-f8e3-8e2f0a55581d"
      },
      "id": "CJBkYksBVXhs",
      "execution_count": null,
      "outputs": [
        {
          "output_type": "stream",
          "name": "stderr",
          "text": [
            "/usr/local/lib/python3.10/dist-packages/sklearn/cluster/_kmeans.py:870: FutureWarning: The default value of `n_init` will change from 10 to 'auto' in 1.4. Set the value of `n_init` explicitly to suppress the warning\n",
            "  warnings.warn(\n"
          ]
        }
      ]
    },
    {
      "cell_type": "markdown",
      "source": [
        "Training PCA using generated embeddings"
      ],
      "metadata": {
        "id": "0oBFIW4PLMWk"
      },
      "id": "0oBFIW4PLMWk"
    },
    {
      "cell_type": "code",
      "source": [
        "pca = PCA(n_components=2)\n",
        "dim_2 = pca.fit_transform(embeddings)"
      ],
      "metadata": {
        "id": "FlB7BTRQOkqM"
      },
      "id": "FlB7BTRQOkqM",
      "execution_count": null,
      "outputs": []
    },
    {
      "cell_type": "markdown",
      "source": [
        "Plotting the clusters that are generated using GCN method"
      ],
      "metadata": {
        "id": "frNUeML5LQXs"
      },
      "id": "frNUeML5LQXs"
    },
    {
      "cell_type": "code",
      "source": [
        "plt.scatter(dim_2[:, 0], dim_2[:, 1], c=labels, cmap='viridis')\n",
        "plt.title('Clusters')\n",
        "plt.xlabel('Projection axes 1')\n",
        "plt.ylabel('Projection axes 2')\n",
        "plt.show()"
      ],
      "metadata": {
        "colab": {
          "base_uri": "https://localhost:8080/",
          "height": 472
        },
        "id": "OsfQ-Wt3L1Wd",
        "outputId": "0589e824-6aed-4ee2-e3d4-c017925c7c30"
      },
      "id": "OsfQ-Wt3L1Wd",
      "execution_count": null,
      "outputs": [
        {
          "output_type": "display_data",
          "data": {
            "text/plain": [
              "<Figure size 640x480 with 1 Axes>"
            ],
            "image/png": "[encoded data removed]"
          },
          "metadata": {}
        }
      ]
    }
  ],
  "metadata": {
    "kernelspec": {
      "display_name": "Python 3 (ipykernel)",
      "language": "python",
      "name": "python3"
    },
    "language_info": {
      "codemirror_mode": {
        "name": "ipython",
        "version": 3
      },
      "file_extension": ".py",
      "mimetype": "text/x-python",
      "name": "python",
      "nbconvert_exporter": "python",
      "pygments_lexer": "ipython3",
      "version": "3.10.13"
    },
    "colab": {
      "provenance": []
    }
  },
  "nbformat": 4,
  "nbformat_minor": 5
}