{
 "cells": [
  {
   "cell_type": "markdown",
   "metadata": {
    "id": "AnkHyErr9CdX"
   },
   "source": [
    "#Team Details :\n",
    "## CS23MTECH11020 - Suryansh Gautam\n",
    "## CS23MTECH11008 - V Harikrishnan\n",
    "## CS23MTECH11029 - Patel Heetkumar D.\n",
    "## CS23MTECH13001 - Anil kumar Sharma\n",
    "## CS23MTECH13002 - KR Anuraj\n"
   ]
  },
  {
   "cell_type": "markdown",
   "metadata": {
    "id": "_L8t5Z-6IH5K"
   },
   "source": [
    "Mounting Google drive"
   ]
  },
  {
   "cell_type": "code",
   "execution_count": null,
   "metadata": {
    "colab": {
     "base_uri": "https://localhost:8080/"
    },
    "id": "SBgre6eHV4Y8",
    "outputId": "8785eae1-549a-4c7a-f6ce-952dac8f16a5"
   },
   "outputs": [
    {
     "name": "stdout",
     "output_type": "stream",
     "text": [
      "Mounted at /content/drive\n"
     ]
    }
   ],
   "source": [
    "from google.colab import drive\n",
    "drive.mount('/content/drive')"
   ]
  },
  {
   "cell_type": "markdown",
   "metadata": {
    "id": "5e6ZcgC_IKet"
   },
   "source": [
    "Importing necessary libraries"
   ]
  },
  {
   "cell_type": "code",
   "execution_count": null,
   "metadata": {
    "id": "C923n1_4V8Lu"
   },
   "outputs": [],
   "source": [
    "import networkx as nx\n",
    "import random\n",
    "from sklearn.cluster import KMeans\n",
    "from sklearn.decomposition import PCA\n",
    "import numpy as np\n",
    "import matplotlib.pyplot as plt\n",
    "from typing import List\n",
    "from tqdm import tqdm\n",
    "from gensim.models.word2vec import Word2Vec\n",
    "import pandas as pd\n",
    "import matplotlib.pyplot as plt\n",
    "import networkx as nx\n",
    "from IPython.display import display\n",
    "from PIL import Image"
   ]
  },
  {
   "cell_type": "markdown",
   "metadata": {
    "id": "iGmy1cZ5IPPR"
   },
   "source": [
    "Reading dataset"
   ]
  },
  {
   "cell_type": "code",
   "execution_count": null,
   "metadata": {
    "id": "XW487PV9V8vI"
   },
   "outputs": [],
   "source": [
    "df = pd.read_csv('/content/drive/MyDrive/Payments.csv')"
   ]
  },
  {
   "cell_type": "markdown",
   "metadata": {
    "id": "ulrm7nl8IcaN"
   },
   "source": [
    "Creating weighted directional graph"
   ]
  },
  {
   "cell_type": "code",
   "execution_count": null,
   "metadata": {
    "id": "EklAiinFV97g"
   },
   "outputs": [],
   "source": [
    "G = nx.DiGraph()\n",
    "for index, row in df.iterrows():\n",
    "    sender = row['Sender']\n",
    "    receiver = row['Receiver']\n",
    "    amount = row['Amount']\n",
    "\n",
    "    if G.has_edge(sender, receiver):\n",
    "        G[sender][receiver]['weight'] += np.log(amount)\n",
    "    else:\n",
    "        G.add_edge(sender, receiver, weight=np.log(amount))"
   ]
  },
  {
   "cell_type": "markdown",
   "metadata": {
    "id": "7rVa_uAcIjsD"
   },
   "source": [
    "creating adjacenc matrix"
   ]
  },
  {
   "cell_type": "code",
   "execution_count": null,
   "metadata": {
    "id": "lNVTGsb0WHJi"
   },
   "outputs": [],
   "source": [
    "n = len(G.nodes())\n",
    "A = nx.adjacency_matrix(G)\n",
    "knn_num = 15\n",
    "A_dense = A.todense()\n",
    "for i in range(A_dense.shape[0]):\n",
    "    top_n_indices = np.argpartition(A_dense[i], -knn_num)[-knn_num:]\n",
    "    mask = np.zeros_like(A_dense[i])\n",
    "    mask[top_n_indices] = 1\n",
    "    A_dense[i] = mask"
   ]
  },
  {
   "cell_type": "code",
   "execution_count": null,
   "metadata": {
    "colab": {
     "base_uri": "https://localhost:8080/"
    },
    "id": "n07zUi2N4jT7",
    "outputId": "eec9f346-f8d9-4596-e56b-84e0360b8b20"
   },
   "outputs": [
    {
     "data": {
      "text/plain": [
       "5358"
      ]
     },
     "execution_count": 58,
     "metadata": {},
     "output_type": "execute_result"
    }
   ],
   "source": [
    "len(G.edges)"
   ]
  },
  {
   "cell_type": "markdown",
   "metadata": {
    "id": "rbZ0P2WaIrHC"
   },
   "source": [
    "Calculating laplacian norm"
   ]
  },
  {
   "cell_type": "code",
   "execution_count": null,
   "metadata": {
    "colab": {
     "base_uri": "https://localhost:8080/"
    },
    "id": "bEZwyu0zXbcZ",
    "outputId": "e038b63b-d42d-4fd9-cf73-fac792a3eba5"
   },
   "outputs": [
    {
     "name": "stderr",
     "output_type": "stream",
     "text": [
      "<ipython-input-59-bc5eed537ec3>:6: RuntimeWarning: divide by zero encountered in divide\n",
      "  degrees = np.where(degrees == 0, 1, 1/np.sqrt(degrees))\n"
     ]
    },
    {
     "data": {
      "text/plain": [
       "1.0"
      ]
     },
     "execution_count": 59,
     "metadata": {},
     "output_type": "execute_result"
    }
   ],
   "source": [
    "degrees = np.sum(A_dense, axis=0)\n",
    "D = np.diag(degrees)\n",
    "laplacian = D - A_dense\n",
    "degrees = np.where(degrees == 0, 1, 1/np.sqrt(degrees))\n",
    "D = np.diag(degrees)\n",
    "D_inv = D\n",
    "degrees.max()"
   ]
  },
  {
   "cell_type": "code",
   "execution_count": null,
   "metadata": {
    "id": "s6lQaf5nXdnO"
   },
   "outputs": [],
   "source": [
    "temp = np.dot(D_inv, A_dense)\n",
    "temp = np.dot(temp, D_inv)\n",
    "laplacian_norm = np.eye(n) - temp"
   ]
  },
  {
   "cell_type": "markdown",
   "metadata": {
    "id": "t0PETKDNIvCd"
   },
   "source": [
    "Calculating lowest n eigenvalues and storing corresponding eigenvectors to embeddings"
   ]
  },
  {
   "cell_type": "code",
   "execution_count": null,
   "metadata": {
    "id": "1uAvxBORYK5R"
   },
   "outputs": [],
   "source": [
    "eigenvalues, eigenvectors = np.linalg.eigh(laplacian_norm)\n",
    "dim = 2\n",
    "indices = np.argsort(eigenvalues)\n",
    "embeddings = eigenvectors[:, indices]\n",
    "embeddings = embeddings[:, 1:dim + 1]"
   ]
  },
  {
   "cell_type": "code",
   "execution_count": null,
   "metadata": {
    "colab": {
     "base_uri": "https://localhost:8080/"
    },
    "id": "MMmcscfkgOQj",
    "outputId": "faafdd72-7fda-459f-ea3a-c63014d67800"
   },
   "outputs": [
    {
     "data": {
      "text/plain": [
       "(799, 2)"
      ]
     },
     "execution_count": 95,
     "metadata": {},
     "output_type": "execute_result"
    }
   ],
   "source": [
    "embeddings\n",
    "embeddings.shape"
   ]
  },
  {
   "cell_type": "markdown",
   "metadata": {
    "id": "ccMQ_scOI371"
   },
   "source": [
    "Fitting k means on generated embeddings"
   ]
  },
  {
   "cell_type": "code",
   "execution_count": null,
   "metadata": {
    "colab": {
     "base_uri": "https://localhost:8080/"
    },
    "id": "4UpIl_pWjVWL",
    "outputId": "549e13df-35f0-40cc-e093-894769522caf"
   },
   "outputs": [
    {
     "name": "stderr",
     "output_type": "stream",
     "text": [
      "/usr/local/lib/python3.10/dist-packages/sklearn/cluster/_kmeans.py:870: FutureWarning: The default value of `n_init` will change from 10 to 'auto' in 1.4. Set the value of `n_init` explicitly to suppress the warning\n",
      "  warnings.warn(\n"
     ]
    }
   ],
   "source": [
    "num_clusters = 3\n",
    "kmeans = KMeans(n_clusters=num_clusters, random_state=42)\n",
    "kmeans.fit(embeddings)\n",
    "labels = kmeans.labels_"
   ]
  },
  {
   "cell_type": "markdown",
   "metadata": {
    "id": "hpqeOyS9I8z5"
   },
   "source": [
    "Fitting PCA on generated embeddings"
   ]
  },
  {
   "cell_type": "code",
   "execution_count": null,
   "metadata": {
    "id": "obg5M5dVjdum"
   },
   "outputs": [],
   "source": [
    "pca = PCA(n_components=2)\n",
    "dim_2 = pca.fit_transform(embeddings)"
   ]
  },
  {
   "cell_type": "markdown",
   "metadata": {
    "id": "C6JyCzGWI_CI"
   },
   "source": [
    "Plotting the clusters that are generated using spectral method"
   ]
  },
  {
   "cell_type": "code",
   "execution_count": null,
   "metadata": {
    "colab": {
     "base_uri": "https://localhost:8080/",
     "height": 472
    },
    "id": "vJFflPZtjj8w",
    "outputId": "528fdf62-33f0-4d0c-c1a1-bb9d95ae31c0"
   },
   "outputs": [
    {
     "data": {
      "image/png": "[encoded data removed]",
      "text/plain": [
       "<Figure size 640x480 with 1 Axes>"
      ]
     },
     "metadata": {},
     "output_type": "display_data"
    }
   ],
   "source": [
    "plt.scatter(dim_2[:, 0], dim_2[:, 1], c=labels, cmap='viridis')\n",
    "plt.title('Clusters')\n",
    "plt.xlabel('Projection axes 1')\n",
    "plt.ylabel('Projection axes 2')\n",
    "plt.show()"
   ]
  }
 ],
 "metadata": {
  "colab": {
   "provenance": []
  },
  "kernelspec": {
   "display_name": "Python 3 (ipykernel)",
   "language": "python",
   "name": "python3"
  },
  "language_info": {
   "codemirror_mode": {
    "name": "ipython",
    "version": 3
   },
   "file_extension": ".py",
   "mimetype": "text/x-python",
   "name": "python",
   "nbconvert_exporter": "python",
   "pygments_lexer": "ipython3",
   "version": "3.10.13"
  }
 },
 "nbformat": 4,
 "nbformat_minor": 4
}
